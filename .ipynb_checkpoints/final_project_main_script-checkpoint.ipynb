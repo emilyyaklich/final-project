{
 "cells": [
  {
   "cell_type": "markdown",
   "metadata": {},
   "source": [
    "# Final Project - BIOF509\n",
    "## Spring 2020 - Emily Yaklich\n",
    "\n"
   ]
  },
  {
   "cell_type": "markdown",
   "metadata": {},
   "source": [
    "### Project Goal: Create a classification model that will be able to predict if a protein will be alpha helical transmembrane or not based on sequence features"
   ]
  },
  {
   "cell_type": "markdown",
   "metadata": {},
   "source": [
    "### Code Overview\n",
    "1. Obtain FASTA files with the transmembrane (TM) and non-transmemrane (non-TM) protein sequences\n",
    "2. Using the [iFeature](https://github.com/Superzchen/iFeature) python package, acquire sequence features in terms of Amino Acid Composiiton and Generalized Dipeptide Composition\n",
    "3. Read in the data as dataframes and create one feature table for both TM and non-TM feature data\n",
    "4. Create and train a Random Forest Classifier model in order to classify the sequence as TM or non-TM"
   ]
  },
  {
   "cell_type": "markdown",
   "metadata": {},
   "source": [
    "### Links to data\n",
    "- Transmembrane sequence dataset from the [PDBTM database](http://pdbtm.enzim.hu/?_=/download/files): http://pdbtm.enzim.hu/data/pdbtm_alpha_nr.seq (The downloaded data is the non-redundant alpha in the sequences column on 05/05/2020 with 971 sequences)\n",
    "- Non-transmembrane sequence dataset from the [TMHMM negative testing set](http://www.cbs.dtu.dk/~krogh/TMHMM/): http://www.cbs.dtu.dk/~krogh/TMHMM/PDBseqs.fasta (downloaded on 05/05/2020 with 645 sequences)"
   ]
  },
  {
   "cell_type": "markdown",
   "metadata": {},
   "source": [
    "### Use iFeature to extract sequence features from the protein sequences"
   ]
  },
  {
   "cell_type": "code",
   "execution_count": 141,
   "metadata": {},
   "outputs": [
    {
     "name": "stdout",
     "output_type": "stream",
     "text": [
      "Descriptor type: AAC\n"
     ]
    }
   ],
   "source": [
    "# TM sequences getting Amino Acid Composition features: \n",
    "\n",
    "!python iFeature/iFeature.py --file pdbtm_alpha_nr.seq.txt --type AAC --out TM_sequence_features_aac.tsv"
   ]
  },
  {
   "cell_type": "code",
   "execution_count": 142,
   "metadata": {},
   "outputs": [
    {
     "name": "stdout",
     "output_type": "stream",
     "text": [
      "Descriptor type: GDPC\n"
     ]
    }
   ],
   "source": [
    "# TM sequences getting Generalized Dipeptide Composition features:\n",
    "\n",
    "!python iFeature/iFeature.py --file pdbtm_alpha_nr.seq.txt --type GDPC --out TM_sequence_features_gdpc.tsv"
   ]
  },
  {
   "cell_type": "code",
   "execution_count": 143,
   "metadata": {},
   "outputs": [
    {
     "name": "stdout",
     "output_type": "stream",
     "text": [
      "Descriptor type: AAC\n"
     ]
    }
   ],
   "source": [
    "# Non-TM sequences getting Amino Acid Composition features:\n",
    "\n",
    "!python iFeature/iFeature.py --file PDBseqs.fasta_nonTM.txt --type AAC --out non_TM_sequence_features_aac.tsv "
   ]
  },
  {
   "cell_type": "code",
   "execution_count": 144,
   "metadata": {},
   "outputs": [
    {
     "name": "stdout",
     "output_type": "stream",
     "text": [
      "Descriptor type: GDPC\n"
     ]
    }
   ],
   "source": [
    "# Non-TM sequences getting Generalized Dipeptide Composition features:\n",
    "\n",
    "!python iFeature/iFeature.py --file PDBseqs.fasta_nonTM.txt --type GDPC --out non_TM_sequence_features_gdpc.tsv "
   ]
  },
  {
   "cell_type": "markdown",
   "metadata": {},
   "source": [
    "### Read in the sequence feature data"
   ]
  },
  {
   "cell_type": "code",
   "execution_count": 147,
   "metadata": {},
   "outputs": [],
   "source": [
    "import pandas as pd\n",
    "# read in the transmembrane data\n",
    "TM_aac = pd.read_csv('TM_sequence_features_aac.tsv', sep='\\t')\n",
    "TM_gdpc = pd.read_csv('TM_sequence_features_gdpc.tsv', sep='\\t')\n",
    "# merge the two dataframes \n",
    "TM_data = pd.merge(TM_aac, TM_gdpc, on='#')\n",
    "# add a 'type' column that will indicate whether a protein is TM or not (2 means it is TM)\n",
    "TM_data['type'] = 2"
   ]
  },
  {
   "cell_type": "code",
   "execution_count": 148,
   "metadata": {},
   "outputs": [],
   "source": [
    "non_TM_aac = pd.read_csv('non_TM_sequence_features_aac.tsv', sep='\\t')\n",
    "non_TM_gdpc = pd.read_csv('non_TM_sequence_features_gdpc.tsv', sep='\\t')\n",
    "# merge the two dataframes\n",
    "non_TM_data = pd.merge(non_TM_aac, non_TM_gdpc, on='#')\n",
    "# add a 'type' column that will indicated whether a protein is TM or not (1 means it is non-TM)\n",
    "non_TM_data['type'] = 1"
   ]
  },
  {
   "cell_type": "code",
   "execution_count": 149,
   "metadata": {},
   "outputs": [],
   "source": [
    "# combine the two dataframes to create the dataset containing all features\n",
    "all_seq_features = TM_data.append(non_TM_data)\n",
    "all_seq_features = all_seq_features.set_index('#')"
   ]
  },
  {
   "cell_type": "markdown",
   "metadata": {},
   "source": [
    "### Visualize first five rows of data"
   ]
  },
  {
   "cell_type": "code",
   "execution_count": 150,
   "metadata": {
    "collapsed": true,
    "jupyter": {
     "outputs_hidden": true
    }
   },
   "outputs": [
    {
     "data": {
      "text/html": [
       "<div>\n",
       "<style scoped>\n",
       "    .dataframe tbody tr th:only-of-type {\n",
       "        vertical-align: middle;\n",
       "    }\n",
       "\n",
       "    .dataframe tbody tr th {\n",
       "        vertical-align: top;\n",
       "    }\n",
       "\n",
       "    .dataframe thead th {\n",
       "        text-align: right;\n",
       "    }\n",
       "</style>\n",
       "<table border=\"1\" class=\"dataframe\">\n",
       "  <thead>\n",
       "    <tr style=\"text-align: right;\">\n",
       "      <th></th>\n",
       "      <th>A</th>\n",
       "      <th>C</th>\n",
       "      <th>D</th>\n",
       "      <th>E</th>\n",
       "      <th>F</th>\n",
       "      <th>G</th>\n",
       "      <th>H</th>\n",
       "      <th>I</th>\n",
       "      <th>K</th>\n",
       "      <th>L</th>\n",
       "      <th>...</th>\n",
       "      <th>negativecharger.aromatic</th>\n",
       "      <th>negativecharger.postivecharger</th>\n",
       "      <th>negativecharger.negativecharger</th>\n",
       "      <th>negativecharger.uncharger</th>\n",
       "      <th>uncharger.alphaticr</th>\n",
       "      <th>uncharger.aromatic</th>\n",
       "      <th>uncharger.postivecharger</th>\n",
       "      <th>uncharger.negativecharger</th>\n",
       "      <th>uncharger.uncharger</th>\n",
       "      <th>type</th>\n",
       "    </tr>\n",
       "    <tr>\n",
       "      <th>#</th>\n",
       "      <th></th>\n",
       "      <th></th>\n",
       "      <th></th>\n",
       "      <th></th>\n",
       "      <th></th>\n",
       "      <th></th>\n",
       "      <th></th>\n",
       "      <th></th>\n",
       "      <th></th>\n",
       "      <th></th>\n",
       "      <th></th>\n",
       "      <th></th>\n",
       "      <th></th>\n",
       "      <th></th>\n",
       "      <th></th>\n",
       "      <th></th>\n",
       "      <th></th>\n",
       "      <th></th>\n",
       "      <th></th>\n",
       "      <th></th>\n",
       "      <th></th>\n",
       "    </tr>\n",
       "  </thead>\n",
       "  <tbody>\n",
       "    <tr>\n",
       "      <th>3a0b_Z</th>\n",
       "      <td>0.096774</td>\n",
       "      <td>0.000000</td>\n",
       "      <td>0.032258</td>\n",
       "      <td>0.000000</td>\n",
       "      <td>0.080645</td>\n",
       "      <td>0.064516</td>\n",
       "      <td>0.000000</td>\n",
       "      <td>0.080645</td>\n",
       "      <td>0.016129</td>\n",
       "      <td>0.177419</td>\n",
       "      <td>...</td>\n",
       "      <td>0.016393</td>\n",
       "      <td>0.016393</td>\n",
       "      <td>0.000000</td>\n",
       "      <td>0.000000</td>\n",
       "      <td>0.081967</td>\n",
       "      <td>0.032787</td>\n",
       "      <td>0.016393</td>\n",
       "      <td>0.016393</td>\n",
       "      <td>0.032787</td>\n",
       "      <td>2</td>\n",
       "    </tr>\n",
       "    <tr>\n",
       "      <th>5a1s_A</th>\n",
       "      <td>0.107143</td>\n",
       "      <td>0.013393</td>\n",
       "      <td>0.026786</td>\n",
       "      <td>0.035714</td>\n",
       "      <td>0.055804</td>\n",
       "      <td>0.102679</td>\n",
       "      <td>0.008929</td>\n",
       "      <td>0.109375</td>\n",
       "      <td>0.040179</td>\n",
       "      <td>0.118304</td>\n",
       "      <td>...</td>\n",
       "      <td>0.004474</td>\n",
       "      <td>0.008949</td>\n",
       "      <td>0.008949</td>\n",
       "      <td>0.004474</td>\n",
       "      <td>0.098434</td>\n",
       "      <td>0.017897</td>\n",
       "      <td>0.022371</td>\n",
       "      <td>0.020134</td>\n",
       "      <td>0.038031</td>\n",
       "      <td>2</td>\n",
       "    </tr>\n",
       "    <tr>\n",
       "      <th>4a2n_B</th>\n",
       "      <td>0.036082</td>\n",
       "      <td>0.005155</td>\n",
       "      <td>0.025773</td>\n",
       "      <td>0.056701</td>\n",
       "      <td>0.082474</td>\n",
       "      <td>0.056701</td>\n",
       "      <td>0.020619</td>\n",
       "      <td>0.118557</td>\n",
       "      <td>0.087629</td>\n",
       "      <td>0.113402</td>\n",
       "      <td>...</td>\n",
       "      <td>0.015544</td>\n",
       "      <td>0.005181</td>\n",
       "      <td>0.020725</td>\n",
       "      <td>0.015544</td>\n",
       "      <td>0.067358</td>\n",
       "      <td>0.041451</td>\n",
       "      <td>0.031088</td>\n",
       "      <td>0.010363</td>\n",
       "      <td>0.025907</td>\n",
       "      <td>2</td>\n",
       "    </tr>\n",
       "    <tr>\n",
       "      <th>6a2j_A</th>\n",
       "      <td>0.090615</td>\n",
       "      <td>0.022654</td>\n",
       "      <td>0.009709</td>\n",
       "      <td>0.029126</td>\n",
       "      <td>0.077670</td>\n",
       "      <td>0.067961</td>\n",
       "      <td>0.032362</td>\n",
       "      <td>0.106796</td>\n",
       "      <td>0.032362</td>\n",
       "      <td>0.148867</td>\n",
       "      <td>...</td>\n",
       "      <td>0.006494</td>\n",
       "      <td>0.003247</td>\n",
       "      <td>0.003247</td>\n",
       "      <td>0.016234</td>\n",
       "      <td>0.113636</td>\n",
       "      <td>0.035714</td>\n",
       "      <td>0.016234</td>\n",
       "      <td>0.009740</td>\n",
       "      <td>0.048701</td>\n",
       "      <td>2</td>\n",
       "    </tr>\n",
       "    <tr>\n",
       "      <th>6a2w_A</th>\n",
       "      <td>0.089820</td>\n",
       "      <td>0.000000</td>\n",
       "      <td>0.065868</td>\n",
       "      <td>0.083832</td>\n",
       "      <td>0.083832</td>\n",
       "      <td>0.119760</td>\n",
       "      <td>0.011976</td>\n",
       "      <td>0.053892</td>\n",
       "      <td>0.035928</td>\n",
       "      <td>0.113772</td>\n",
       "      <td>...</td>\n",
       "      <td>0.024096</td>\n",
       "      <td>0.012048</td>\n",
       "      <td>0.024096</td>\n",
       "      <td>0.036145</td>\n",
       "      <td>0.096386</td>\n",
       "      <td>0.018072</td>\n",
       "      <td>0.000000</td>\n",
       "      <td>0.012048</td>\n",
       "      <td>0.042169</td>\n",
       "      <td>2</td>\n",
       "    </tr>\n",
       "  </tbody>\n",
       "</table>\n",
       "<p>5 rows × 46 columns</p>\n",
       "</div>"
      ],
      "text/plain": [
       "               A         C         D         E         F         G         H  \\\n",
       "#                                                                              \n",
       "3a0b_Z  0.096774  0.000000  0.032258  0.000000  0.080645  0.064516  0.000000   \n",
       "5a1s_A  0.107143  0.013393  0.026786  0.035714  0.055804  0.102679  0.008929   \n",
       "4a2n_B  0.036082  0.005155  0.025773  0.056701  0.082474  0.056701  0.020619   \n",
       "6a2j_A  0.090615  0.022654  0.009709  0.029126  0.077670  0.067961  0.032362   \n",
       "6a2w_A  0.089820  0.000000  0.065868  0.083832  0.083832  0.119760  0.011976   \n",
       "\n",
       "               I         K         L  ...  negativecharger.aromatic  \\\n",
       "#                                     ...                             \n",
       "3a0b_Z  0.080645  0.016129  0.177419  ...                  0.016393   \n",
       "5a1s_A  0.109375  0.040179  0.118304  ...                  0.004474   \n",
       "4a2n_B  0.118557  0.087629  0.113402  ...                  0.015544   \n",
       "6a2j_A  0.106796  0.032362  0.148867  ...                  0.006494   \n",
       "6a2w_A  0.053892  0.035928  0.113772  ...                  0.024096   \n",
       "\n",
       "        negativecharger.postivecharger  negativecharger.negativecharger  \\\n",
       "#                                                                         \n",
       "3a0b_Z                        0.016393                         0.000000   \n",
       "5a1s_A                        0.008949                         0.008949   \n",
       "4a2n_B                        0.005181                         0.020725   \n",
       "6a2j_A                        0.003247                         0.003247   \n",
       "6a2w_A                        0.012048                         0.024096   \n",
       "\n",
       "        negativecharger.uncharger  uncharger.alphaticr  uncharger.aromatic  \\\n",
       "#                                                                            \n",
       "3a0b_Z                   0.000000             0.081967            0.032787   \n",
       "5a1s_A                   0.004474             0.098434            0.017897   \n",
       "4a2n_B                   0.015544             0.067358            0.041451   \n",
       "6a2j_A                   0.016234             0.113636            0.035714   \n",
       "6a2w_A                   0.036145             0.096386            0.018072   \n",
       "\n",
       "        uncharger.postivecharger  uncharger.negativecharger  \\\n",
       "#                                                             \n",
       "3a0b_Z                  0.016393                   0.016393   \n",
       "5a1s_A                  0.022371                   0.020134   \n",
       "4a2n_B                  0.031088                   0.010363   \n",
       "6a2j_A                  0.016234                   0.009740   \n",
       "6a2w_A                  0.000000                   0.012048   \n",
       "\n",
       "        uncharger.uncharger  type  \n",
       "#                                  \n",
       "3a0b_Z             0.032787     2  \n",
       "5a1s_A             0.038031     2  \n",
       "4a2n_B             0.025907     2  \n",
       "6a2j_A             0.048701     2  \n",
       "6a2w_A             0.042169     2  \n",
       "\n",
       "[5 rows x 46 columns]"
      ]
     },
     "execution_count": 150,
     "metadata": {},
     "output_type": "execute_result"
    }
   ],
   "source": [
    "all_seq_features.head()"
   ]
  },
  {
   "cell_type": "markdown",
   "metadata": {},
   "source": [
    "### Visualize shape of the data"
   ]
  },
  {
   "cell_type": "code",
   "execution_count": 151,
   "metadata": {},
   "outputs": [
    {
     "data": {
      "text/plain": [
       "(1616, 46)"
      ]
     },
     "execution_count": 151,
     "metadata": {},
     "output_type": "execute_result"
    }
   ],
   "source": [
    "all_seq_features.shape"
   ]
  },
  {
   "cell_type": "markdown",
   "metadata": {},
   "source": [
    "### Look for missing observations in the dataset"
   ]
  },
  {
   "cell_type": "code",
   "execution_count": 153,
   "metadata": {
    "collapsed": true,
    "jupyter": {
     "outputs_hidden": true
    }
   },
   "outputs": [
    {
     "data": {
      "text/plain": [
       "A                                  0\n",
       "C                                  0\n",
       "D                                  0\n",
       "E                                  0\n",
       "F                                  0\n",
       "G                                  0\n",
       "H                                  0\n",
       "I                                  0\n",
       "K                                  0\n",
       "L                                  0\n",
       "M                                  0\n",
       "N                                  0\n",
       "P                                  0\n",
       "Q                                  0\n",
       "R                                  0\n",
       "S                                  0\n",
       "T                                  0\n",
       "V                                  0\n",
       "W                                  0\n",
       "Y                                  0\n",
       "alphaticr.alphaticr                0\n",
       "alphaticr.aromatic                 0\n",
       "alphaticr.postivecharger           0\n",
       "alphaticr.negativecharger          0\n",
       "alphaticr.uncharger                0\n",
       "aromatic.alphaticr                 0\n",
       "aromatic.aromatic                  0\n",
       "aromatic.postivecharger            0\n",
       "aromatic.negativecharger           0\n",
       "aromatic.uncharger                 0\n",
       "postivecharger.alphaticr           0\n",
       "postivecharger.aromatic            0\n",
       "postivecharger.postivecharger      0\n",
       "postivecharger.negativecharger     0\n",
       "postivecharger.uncharger           0\n",
       "negativecharger.alphaticr          0\n",
       "negativecharger.aromatic           0\n",
       "negativecharger.postivecharger     0\n",
       "negativecharger.negativecharger    0\n",
       "negativecharger.uncharger          0\n",
       "uncharger.alphaticr                0\n",
       "uncharger.aromatic                 0\n",
       "uncharger.postivecharger           0\n",
       "uncharger.negativecharger          0\n",
       "uncharger.uncharger                0\n",
       "type                               0\n",
       "dtype: int64"
      ]
     },
     "execution_count": 153,
     "metadata": {},
     "output_type": "execute_result"
    }
   ],
   "source": [
    "all_seq_features.isnull().sum()\n",
    "\n",
    "# there are no missing oberservations in the dataset!"
   ]
  },
  {
   "cell_type": "markdown",
   "metadata": {},
   "source": [
    "### Problem Statement\n",
    "From sequence data alone, it "
   ]
  },
  {
   "cell_type": "markdown",
   "metadata": {},
   "source": [
    "### y-variable \n",
    "The y-variable or labels or target prediction is the transmembrane identity of a protein sequence. In this dataset, it will the the 'type' column with either a 2 for a transmembrane identity or 1 for a non-transmembrane identity"
   ]
  },
  {
   "cell_type": "markdown",
   "metadata": {},
   "source": [
    "### Build and test a Random Forest Classifier Model"
   ]
  },
  {
   "cell_type": "code",
   "execution_count": 118,
   "metadata": {},
   "outputs": [],
   "source": [
    "import numpy as np\n",
    "\n",
    "# labels are the values we want to predict (TM or non-TM)\n",
    "labels = np.array(features['type'])\n",
    "# remove the labels from the features\n",
    "# axis 1 refers to the columns\n",
    "features= features.drop('type', axis = 1)\n",
    "# Saving feature names for later use\n",
    "feature_list = list(features.columns)\n",
    "# convert df to numpy array\n",
    "features = np.array(features)"
   ]
  },
  {
   "cell_type": "code",
   "execution_count": 119,
   "metadata": {},
   "outputs": [],
   "source": [
    "from sklearn.model_selection import train_test_split\n",
    "from sklearn.ensemble import RandomForestClassifier\n",
    "from sklearn.metrics import mean_squared_error\n",
    "\n",
    "# split the data into training and testing sets\n",
    "train_features, test_features, train_labels, test_labels = train_test_split(features, labels, test_size = 0.3, random_state = 42)\n",
    "# instantiate \n",
    "rf = RandomForestClassifier(n_estimators = 100, random_state = 42, n_jobs=-1)\n",
    "# fit\n",
    "rf.fit(train_features, train_labels);\n",
    "# predict \n",
    "predictions = rf.predict(test_features)\n",
    "# test\n",
    "mean_squared_error(test_labels, predictions)"
   ]
  },
  {
   "cell_type": "code",
   "execution_count": 119,
   "metadata": {},
   "outputs": [],
   "source": [
    "# calculate the absolute errors\n",
    "errors = abs(predictions - test_labels)\n",
    "\n",
    "# calculate mean absolute percentage error (MAPE)\n",
    "mape = 100 * (errors / test_labels)\n",
    "# calculate and display accuracy\n",
    "accuracy = 100 - np.mean(mape)\n",
    "print('Accuracy:', round(accuracy, 3), '%.')"
   ]
  },
  {
   "cell_type": "code",
   "execution_count": 128,
   "metadata": {},
   "outputs": [
    {
     "name": "stdout",
     "output_type": "stream",
     "text": [
      "Average number of nodes 192\n",
      "Average maximum depth 12\n"
     ]
    }
   ],
   "source": [
    "# look at the shape of the decision trees \n",
    "n_nodes = []\n",
    "max_depths = []\n",
    "\n",
    "for ind_tree in rf.estimators_:\n",
    "    n_nodes.append(ind_tree.tree_.node_count)\n",
    "    max_depths.append(ind_tree.tree_.max_depth)\n",
    "    \n",
    "print(f'Average number of nodes {int(np.mean(n_nodes))}')\n",
    "print(f'Average maximum depth {int(np.mean(max_depths))}')"
   ]
  },
  {
   "cell_type": "code",
   "execution_count": 129,
   "metadata": {},
   "outputs": [],
   "source": [
    "train_rf_predictions = rf.predict(train_features)\n",
    "train_rf_probs = rf.predict_proba(train_features)[:, 1]\n",
    "\n",
    "rf_predictions = rf.predict(test_features)\n",
    "rf_probs = rf.predict_proba(test_features)[:, 1]"
   ]
  },
  {
   "cell_type": "code",
   "execution_count": 131,
   "metadata": {},
   "outputs": [],
   "source": [
    "from sklearn.metrics import roc_curve"
   ]
  },
  {
   "cell_type": "code",
   "execution_count": 132,
   "metadata": {},
   "outputs": [
    {
     "data": {
      "text/plain": [
       "Counter({2: 274, 1: 211})"
      ]
     },
     "execution_count": 132,
     "metadata": {},
     "output_type": "execute_result"
    }
   ],
   "source": [
    "import collections\n",
    "collections.Counter(rf_predictions)\n"
   ]
  },
  {
   "cell_type": "code",
   "execution_count": 133,
   "metadata": {},
   "outputs": [],
   "source": [
    "# calculate false positive rates and true positive rates\n",
    "base_fpr, base_tpr, _ = roc_curve(test_labels, [1 for _ in range(len(test_labels))],pos_label=2)\n",
    "model_fpr, model_tpr, _ = roc_curve(test_labels, rf_probs, pos_label=2)"
   ]
  },
  {
   "cell_type": "code",
   "execution_count": 134,
   "metadata": {},
   "outputs": [
    {
     "data": {
      "image/png": "[encoded data removed]",
      "text/plain": [
       "<Figure size 576x432 with 1 Axes>"
      ]
     },
     "metadata": {
      "needs_background": "light"
     },
     "output_type": "display_data"
    }
   ],
   "source": [
    "import matplotlib.pyplot as plt\n",
    "plt.figure(figsize = (8, 6))\n",
    "plt.rcParams['font.size'] = 16\n",
    "    \n",
    "    # Plot both curves\n",
    "plt.plot(base_fpr, base_tpr, 'b', label = 'baseline')\n",
    "plt.plot(model_fpr, model_tpr, 'r', label = 'model')\n",
    "plt.legend();\n",
    "plt.xlabel('False Positive Rate'); plt.ylabel('True Positive Rate'); plt.title('ROC Curves');"
   ]
  },
  {
   "cell_type": "markdown",
   "metadata": {},
   "source": [
    "References:\n",
    "https://github.com/WillKoehrsen/Machine-Learning-Projects/blob/master/Random%20Forest%20Tutorial.ipynb\n",
    "https://towardsdatascience.com/random-forest-in-python-24d0893d51c0\n",
    "Chen Z, Zhao P, Li F, Leier A, Marquez-Lago TT, Wang Y, Webb GI, \n",
    "Smith AI, Daly RJ* , Chou KC* , Song J* . iFeature: a python package and web server for features extraction and selection from protein and peptide sequences. Bioinformatics, 2018, doi: \n",
    "10.1093/bioinformatics/bty140."
   ]
  },
  {
   "cell_type": "code",
   "execution_count": 135,
   "metadata": {},
   "outputs": [
    {
     "name": "stdout",
     "output_type": "stream",
     "text": [
      "[[175  17]\n",
      " [ 36 257]]\n"
     ]
    }
   ],
   "source": [
    "from sklearn.metrics import confusion_matrix, plot_confusion_matrix\n",
    "\n",
    "\n",
    "conf_mat = confusion_matrix(test_labels, rf_predictions)\n",
    "print(conf_mat)"
   ]
  },
  {
   "cell_type": "code",
   "execution_count": 136,
   "metadata": {},
   "outputs": [
    {
     "data": {
      "image/png": "[encoded data removed]",
      "text/plain": [
       "<Figure size 432x288 with 2 Axes>"
      ]
     },
     "metadata": {
      "needs_background": "light"
     },
     "output_type": "display_data"
    }
   ],
   "source": [
    "labels = ['non-TM', 'TM']\n",
    "disp = plot_confusion_matrix(rf, test_features, test_labels,\n",
    "display_labels=labels, values_format='.3g', cmap=plt.cm.Greens)"
   ]
  },
  {
   "cell_type": "code",
   "execution_count": 137,
   "metadata": {},
   "outputs": [],
   "source": [
    "# calculate which features contribute the most\n",
    "feature_importances = pd.DataFrame(rf.feature_importances_, index = feature_list,\n",
    "                      columns=['importance']).sort_values('importance', ascending=False)"
   ]
  },
  {
   "cell_type": "code",
   "execution_count": 138,
   "metadata": {
    "collapsed": true,
    "jupyter": {
     "outputs_hidden": true
    }
   },
   "outputs": [
    {
     "data": {
      "text/html": [
       "<div>\n",
       "<style scoped>\n",
       "    .dataframe tbody tr th:only-of-type {\n",
       "        vertical-align: middle;\n",
       "    }\n",
       "\n",
       "    .dataframe tbody tr th {\n",
       "        vertical-align: top;\n",
       "    }\n",
       "\n",
       "    .dataframe thead th {\n",
       "        text-align: right;\n",
       "    }\n",
       "</style>\n",
       "<table border=\"1\" class=\"dataframe\">\n",
       "  <thead>\n",
       "    <tr style=\"text-align: right;\">\n",
       "      <th></th>\n",
       "      <th>importance</th>\n",
       "    </tr>\n",
       "  </thead>\n",
       "  <tbody>\n",
       "    <tr>\n",
       "      <th>L</th>\n",
       "      <td>0.117032</td>\n",
       "    </tr>\n",
       "    <tr>\n",
       "      <th>alphaticr.alphaticr</th>\n",
       "      <td>0.088234</td>\n",
       "    </tr>\n",
       "    <tr>\n",
       "      <th>negativecharger.alphaticr</th>\n",
       "      <td>0.062808</td>\n",
       "    </tr>\n",
       "    <tr>\n",
       "      <th>alphaticr.aromatic</th>\n",
       "      <td>0.059724</td>\n",
       "    </tr>\n",
       "    <tr>\n",
       "      <th>aromatic.alphaticr</th>\n",
       "      <td>0.051827</td>\n",
       "    </tr>\n",
       "    <tr>\n",
       "      <th>D</th>\n",
       "      <td>0.043737</td>\n",
       "    </tr>\n",
       "    <tr>\n",
       "      <th>alphaticr.negativecharger</th>\n",
       "      <td>0.040345</td>\n",
       "    </tr>\n",
       "    <tr>\n",
       "      <th>K</th>\n",
       "      <td>0.033556</td>\n",
       "    </tr>\n",
       "    <tr>\n",
       "      <th>F</th>\n",
       "      <td>0.030017</td>\n",
       "    </tr>\n",
       "    <tr>\n",
       "      <th>M</th>\n",
       "      <td>0.025165</td>\n",
       "    </tr>\n",
       "    <tr>\n",
       "      <th>N</th>\n",
       "      <td>0.022622</td>\n",
       "    </tr>\n",
       "    <tr>\n",
       "      <th>postivecharger.uncharger</th>\n",
       "      <td>0.022333</td>\n",
       "    </tr>\n",
       "    <tr>\n",
       "      <th>aromatic.aromatic</th>\n",
       "      <td>0.020095</td>\n",
       "    </tr>\n",
       "    <tr>\n",
       "      <th>alphaticr.postivecharger</th>\n",
       "      <td>0.019884</td>\n",
       "    </tr>\n",
       "    <tr>\n",
       "      <th>uncharger.negativecharger</th>\n",
       "      <td>0.019345</td>\n",
       "    </tr>\n",
       "    <tr>\n",
       "      <th>E</th>\n",
       "      <td>0.018313</td>\n",
       "    </tr>\n",
       "    <tr>\n",
       "      <th>postivecharger.alphaticr</th>\n",
       "      <td>0.017941</td>\n",
       "    </tr>\n",
       "    <tr>\n",
       "      <th>G</th>\n",
       "      <td>0.016776</td>\n",
       "    </tr>\n",
       "    <tr>\n",
       "      <th>I</th>\n",
       "      <td>0.016190</td>\n",
       "    </tr>\n",
       "    <tr>\n",
       "      <th>postivecharger.postivecharger</th>\n",
       "      <td>0.016074</td>\n",
       "    </tr>\n",
       "    <tr>\n",
       "      <th>uncharger.uncharger</th>\n",
       "      <td>0.015334</td>\n",
       "    </tr>\n",
       "    <tr>\n",
       "      <th>C</th>\n",
       "      <td>0.014939</td>\n",
       "    </tr>\n",
       "    <tr>\n",
       "      <th>postivecharger.negativecharger</th>\n",
       "      <td>0.013235</td>\n",
       "    </tr>\n",
       "    <tr>\n",
       "      <th>S</th>\n",
       "      <td>0.012092</td>\n",
       "    </tr>\n",
       "    <tr>\n",
       "      <th>negativecharger.aromatic</th>\n",
       "      <td>0.012078</td>\n",
       "    </tr>\n",
       "    <tr>\n",
       "      <th>negativecharger.uncharger</th>\n",
       "      <td>0.011671</td>\n",
       "    </tr>\n",
       "    <tr>\n",
       "      <th>V</th>\n",
       "      <td>0.011426</td>\n",
       "    </tr>\n",
       "    <tr>\n",
       "      <th>negativecharger.postivecharger</th>\n",
       "      <td>0.011070</td>\n",
       "    </tr>\n",
       "    <tr>\n",
       "      <th>uncharger.postivecharger</th>\n",
       "      <td>0.011029</td>\n",
       "    </tr>\n",
       "    <tr>\n",
       "      <th>Y</th>\n",
       "      <td>0.010705</td>\n",
       "    </tr>\n",
       "    <tr>\n",
       "      <th>aromatic.negativecharger</th>\n",
       "      <td>0.010315</td>\n",
       "    </tr>\n",
       "    <tr>\n",
       "      <th>W</th>\n",
       "      <td>0.010114</td>\n",
       "    </tr>\n",
       "    <tr>\n",
       "      <th>A</th>\n",
       "      <td>0.010020</td>\n",
       "    </tr>\n",
       "    <tr>\n",
       "      <th>P</th>\n",
       "      <td>0.010003</td>\n",
       "    </tr>\n",
       "    <tr>\n",
       "      <th>T</th>\n",
       "      <td>0.009904</td>\n",
       "    </tr>\n",
       "    <tr>\n",
       "      <th>aromatic.postivecharger</th>\n",
       "      <td>0.009785</td>\n",
       "    </tr>\n",
       "    <tr>\n",
       "      <th>uncharger.aromatic</th>\n",
       "      <td>0.009778</td>\n",
       "    </tr>\n",
       "    <tr>\n",
       "      <th>R</th>\n",
       "      <td>0.008922</td>\n",
       "    </tr>\n",
       "    <tr>\n",
       "      <th>Q</th>\n",
       "      <td>0.008707</td>\n",
       "    </tr>\n",
       "    <tr>\n",
       "      <th>postivecharger.aromatic</th>\n",
       "      <td>0.008149</td>\n",
       "    </tr>\n",
       "    <tr>\n",
       "      <th>H</th>\n",
       "      <td>0.007965</td>\n",
       "    </tr>\n",
       "    <tr>\n",
       "      <th>aromatic.uncharger</th>\n",
       "      <td>0.007850</td>\n",
       "    </tr>\n",
       "    <tr>\n",
       "      <th>uncharger.alphaticr</th>\n",
       "      <td>0.007831</td>\n",
       "    </tr>\n",
       "    <tr>\n",
       "      <th>negativecharger.negativecharger</th>\n",
       "      <td>0.007543</td>\n",
       "    </tr>\n",
       "    <tr>\n",
       "      <th>alphaticr.uncharger</th>\n",
       "      <td>0.007521</td>\n",
       "    </tr>\n",
       "  </tbody>\n",
       "</table>\n",
       "</div>"
      ],
      "text/plain": [
       "                                 importance\n",
       "L                                  0.117032\n",
       "alphaticr.alphaticr                0.088234\n",
       "negativecharger.alphaticr          0.062808\n",
       "alphaticr.aromatic                 0.059724\n",
       "aromatic.alphaticr                 0.051827\n",
       "D                                  0.043737\n",
       "alphaticr.negativecharger          0.040345\n",
       "K                                  0.033556\n",
       "F                                  0.030017\n",
       "M                                  0.025165\n",
       "N                                  0.022622\n",
       "postivecharger.uncharger           0.022333\n",
       "aromatic.aromatic                  0.020095\n",
       "alphaticr.postivecharger           0.019884\n",
       "uncharger.negativecharger          0.019345\n",
       "E                                  0.018313\n",
       "postivecharger.alphaticr           0.017941\n",
       "G                                  0.016776\n",
       "I                                  0.016190\n",
       "postivecharger.postivecharger      0.016074\n",
       "uncharger.uncharger                0.015334\n",
       "C                                  0.014939\n",
       "postivecharger.negativecharger     0.013235\n",
       "S                                  0.012092\n",
       "negativecharger.aromatic           0.012078\n",
       "negativecharger.uncharger          0.011671\n",
       "V                                  0.011426\n",
       "negativecharger.postivecharger     0.011070\n",
       "uncharger.postivecharger           0.011029\n",
       "Y                                  0.010705\n",
       "aromatic.negativecharger           0.010315\n",
       "W                                  0.010114\n",
       "A                                  0.010020\n",
       "P                                  0.010003\n",
       "T                                  0.009904\n",
       "aromatic.postivecharger            0.009785\n",
       "uncharger.aromatic                 0.009778\n",
       "R                                  0.008922\n",
       "Q                                  0.008707\n",
       "postivecharger.aromatic            0.008149\n",
       "H                                  0.007965\n",
       "aromatic.uncharger                 0.007850\n",
       "uncharger.alphaticr                0.007831\n",
       "negativecharger.negativecharger    0.007543\n",
       "alphaticr.uncharger                0.007521"
      ]
     },
     "execution_count": 138,
     "metadata": {},
     "output_type": "execute_result"
    }
   ],
   "source": [
    "feature_importances"
   ]
  },
  {
   "cell_type": "code",
   "execution_count": 139,
   "metadata": {},
   "outputs": [
    {
     "data": {
      "text/plain": [
       "<matplotlib.axes._subplots.AxesSubplot at 0x1a16cfb668>"
      ]
     },
     "execution_count": 139,
     "metadata": {},
     "output_type": "execute_result"
    },
    {
     "data": {
      "image/png": "[encoded data removed]",
      "text/plain": [
       "<Figure size 432x288 with 1 Axes>"
      ]
     },
     "metadata": {
      "needs_background": "light"
     },
     "output_type": "display_data"
    }
   ],
   "source": [
    "# figure out a better way to plot this \n",
    "feature_importances.plot(kind = 'bar')"
   ]
  },
  {
   "cell_type": "code",
   "execution_count": null,
   "metadata": {},
   "outputs": [],
   "source": []
  }
 ],
 "metadata": {
  "kernelspec": {
   "display_name": "Python 3",
   "language": "python",
   "name": "python3"
  },
  "language_info": {
   "codemirror_mode": {
    "name": "ipython",
    "version": 3
   },
   "file_extension": ".py",
   "mimetype": "text/x-python",
   "name": "python",
   "nbconvert_exporter": "python",
   "pygments_lexer": "ipython3",
   "version": "3.7.3"
  }
 },
 "nbformat": 4,
 "nbformat_minor": 4
}
